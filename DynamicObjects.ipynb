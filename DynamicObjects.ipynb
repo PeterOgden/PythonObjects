{
 "cells": [
  {
   "cell_type": "markdown",
   "metadata": {},
   "source": [
    "# Dynamically Creating Usable Python Objects - The Overlay Class\n",
    "\n",
    "One of the features of Python that we exploit in PYNQ is the loose typing system that allows to generate and modify types at runtime. BY doing this we can offer more Pythonic APIs generated in large part from user-supplied data than would be possible in a more rigid type system. In the world of PYNQ we have _overlays_ which contain one or more pieces of _IP_ - distinct pieces of the programmable logic which are interacted with through drivers. One of the main ways PYNQ provides for interacting with overlays is the `Overlay` class which gives access to IP using dynamically generated attributes. For example.\n",
    "\n",
    "```Python\n",
    "ol = pynq.Overlay('my_biststream.bit')\n",
    "ol.gpio_btns.channel1.read()\n",
    "```\n",
    "\n",
    "While on the surface this code appears to be simple, underneath there is a lot of functionality contained in those two lines. For these lines to be functional the PYNQ runtime needs to:\n",
    "\n",
    " 1. Parse some metadata to figure out what's in `my_bitstream.bit`\n",
    " 2. Know that the `gpio_btns` IP should have a GPIO driver attached to it\n",
    " 3. Add an attribute to `ol` called `gpio_btns` with the appropriate driver\n",
    "\n",
    "Step one of this process has already been covered by my colleague in a [previous blog](https://discuss.pynq.io/t/whats-in-my-bitstream-a-pythonic-approach-to-discovering-fpga-contents/653). so here I'm going to see what goes into steps two and three. Through the course of the blog I'm going to build up a simplified version of the Overlay class to give some intuition as to what's going on under the hood and to offer ideas for other uses of these techniques.\n",
    "\n",
    "If you want to explore the code directly there is a [Binder version of this post](https://mybinder.org/v2/gh/PeterOgden/PythonObjects/master) where you can run all of the example code.\n",
    "\n",
    "## Our starting dictionary\n",
    "\n",
    "To learn more about how the dictionaries are parsed from the meta-data I would recommend going through [Rock's blog on the topic](https://discuss.pynq.io/t/whats-in-my-bitstream-a-pythonic-approach-to-discovering-fpga-contents/653). For this example we're going to use a very stripped down version of the IP dictionary that only contains the name of the IP and the type of the IP."
   ]
  },
  {
   "cell_type": "code",
   "execution_count": 1,
   "metadata": {},
   "outputs": [],
   "source": [
    "ip_dict = {\n",
    "    'gpio_btns': {'type': 'xilinx.com:ip:axi_gpio:2.0'},\n",
    "    'my_custom_ip': {'type': 'xilinx.com:hls:my_hls_ip:1.0'}\n",
    "}"
   ]
  },
  {
   "cell_type": "markdown",
   "metadata": {},
   "source": [
    "This example consists of an AXI GPIO controller which we will want to bind a dedicated driver to and some form of custom IP that we will bind a default driver to.\n",
    "\n",
    "## Picking a driver\n",
    "\n",
    "When implementing drivers there is some basic functionality that is going to be common to all memory-mapped devices - namely reading and writing to the registers in the device. It makes sense to encapsulate this inside of a base class for all drivers. This base class also makes a good candidate for what driver we should use when there isn't some more specific available. In PYNQ this is the `DefaultIP` class and for consistency I'll use the same name for this example. The implementation doesn't impact how the binding process happens so I'm going to leave it blank to avoid complicating the code snippets."
   ]
  },
  {
   "cell_type": "code",
   "execution_count": 2,
   "metadata": {},
   "outputs": [],
   "source": [
    "class DefaultIP:\n",
    "    pass"
   ]
  },
  {
   "cell_type": "markdown",
   "metadata": {},
   "source": [
    "We can now implement a sub-class for our GPIO device - again the implementation doesn't impact how we go about binding drivers to devices."
   ]
  },
  {
   "cell_type": "code",
   "execution_count": 3,
   "metadata": {},
   "outputs": [],
   "source": [
    "class AxiGPIO(DefaultIP):\n",
    "    pass"
   ]
  },
  {
   "cell_type": "markdown",
   "metadata": {},
   "source": [
    "Next we need some way to add driver bindings to the `ip_dict`. If we had a dictionary of `type` to driver class we could write a simple function that would add a new entry into each sub dictionary with the driver class to use:"
   ]
  },
  {
   "cell_type": "code",
   "execution_count": 4,
   "metadata": {},
   "outputs": [],
   "source": [
    "_driver_bindings = {}\n",
    "\n",
    "def _bind_drivers(ip_dict):\n",
    "    for k, v in ip_dict.items():\n",
    "        if v['type'] in _driver_bindings:\n",
    "            v['driver'] = _driver_bindings[v['type']]\n",
    "        else:\n",
    "            v['driver'] = DefaultIP"
   ]
  },
  {
   "cell_type": "markdown",
   "metadata": {},
   "source": [
    "The next question is how we go about populating the `_driver_bindings` dictionary. There are two ways we explored when implementing this in PYNQ:\n",
    "\n",
    " 1. Having a registration function\n",
    " 2. Automatically registering classes derived from `DefaulIP`\n",
    " \n",
    "While we ultimately decided on the second approach it's worth looking at both and their relative merits.\n",
    "\n",
    "### Adding a registration function\n",
    "\n",
    "This is most straightforward approach and relies on the writer of the driver calling a function to tell the runtime what IP it supports"
   ]
  },
  {
   "cell_type": "code",
   "execution_count": 5,
   "metadata": {},
   "outputs": [],
   "source": [
    "def register_driver(driver_type, cls):\n",
    "    _driver_bindings[driver_type] = cls"
   ]
  },
  {
   "cell_type": "markdown",
   "metadata": {},
   "source": [
    "For our AxiGPIO class we would add the following register call underneath our driver definition"
   ]
  },
  {
   "cell_type": "code",
   "execution_count": 6,
   "metadata": {},
   "outputs": [],
   "source": [
    "register_driver('xilinx.com:ip:axi_gpio:2.0', AxiGPIO)"
   ]
  },
  {
   "cell_type": "markdown",
   "metadata": {},
   "source": [
    "The main downside to this approach is that all the registration data is contained within the runtime dictionary. There is no way for external code to determine what IP a driver supports other than by querying an internal data structure. This limits how other libraries can make use of this information.\n",
    "\n",
    "### Automatically registering subclasses\n",
    "\n",
    "This alternative is far more involved from an implementation point of view but has the advantage of giving a much more declarative style of programming which matches other driver binding systems. The core concept is to create a metaclass for the `DefaultIP` class which keeps track of all subclasses that are created and then registering them if they have a specific property - we use the name `bindto`. \n",
    "Implementing automatic registration requires changing our `DefaultIP` class to use the registration metaclass:"
   ]
  },
  {
   "cell_type": "code",
   "execution_count": 7,
   "metadata": {},
   "outputs": [],
   "source": [
    "class RegisterIP(type):\n",
    "    def __init__(cls, name, bases, attrs):\n",
    "        if 'bindto' in attrs:\n",
    "            _driver_bindings[attrs['bindto']] = cls\n",
    "        super().__init__(name, bases, attrs)\n",
    "\n",
    "class DefaultIP(metaclass=RegisterIP):\n",
    "    pass"
   ]
  },
  {
   "cell_type": "markdown",
   "metadata": {},
   "source": [
    "The effect is that we now add a `bindto` attribute in our AxiGPIO class and the registration happens when the driver class is defined:"
   ]
  },
  {
   "cell_type": "code",
   "execution_count": 8,
   "metadata": {},
   "outputs": [],
   "source": [
    "class AxiGPIO(DefaultIP):\n",
    "    bindto = 'xilinx.com:ip:axi_gpio:2.0'"
   ]
  },
  {
   "cell_type": "markdown",
   "metadata": {},
   "source": [
    "As we've now tied the IP blocks that the driver supports to the driver class other systems can use this information without knowing about the internal registration dictionary. Any code can query the `bindto` property of a driver class independently of PYNQ.\n",
    "\n",
    "Regardless of which method was used we can now bind drviers into our starting dictionary"
   ]
  },
  {
   "cell_type": "code",
   "execution_count": 9,
   "metadata": {},
   "outputs": [],
   "source": [
    "_bind_drivers(ip_dict)"
   ]
  },
  {
   "cell_type": "markdown",
   "metadata": {},
   "source": [
    "## Creating the attributes\n",
    "\n",
    "Now we know what driver each attribute should use we need to go about constructing them and adding them to the overlay class. For this we have three main options:\n",
    "\n",
    " 1. Dynamically create a new subtype with the specified attributes\n",
    " 2. Use `setattr` to add the attributes to an Overlay instance\n",
    " 3. Implement `__getattr__` to create the attirbutes as needed\n",
    "\n",
    "We'll continue with our previous example and use the following dictionary as a starting point:\n"
   ]
  },
  {
   "cell_type": "code",
   "execution_count": 10,
   "metadata": {},
   "outputs": [
    {
     "data": {
      "text/plain": [
       "{'gpio_btns': {'type': 'xilinx.com:ip:axi_gpio:2.0',\n",
       "  'driver': __main__.AxiGPIO},\n",
       " 'my_custom_ip': {'type': 'xilinx.com:hls:my_hls_ip:1.0',\n",
       "  'driver': __main__.DefaultIP}}"
      ]
     },
     "execution_count": 10,
     "metadata": {},
     "output_type": "execute_result"
    }
   ],
   "source": [
    "ip_dict"
   ]
  },
  {
   "cell_type": "markdown",
   "metadata": {},
   "source": [
    "### Creating a new subclass\n",
    "\n",
    "In this instance we place all of our functionality in a new `OverlayBase` class and `Overlay` becomes a construction function that creates and instantiates a new class"
   ]
  },
  {
   "cell_type": "code",
   "execution_count": 11,
   "metadata": {},
   "outputs": [],
   "source": [
    "class OverlayBase:\n",
    "    pass\n",
    "\n",
    "def Overlay():\n",
    "    attrs = {k: v['driver']() for k, v in ip_dict.items()}\n",
    "    NewClass = type('Overlay', (OverlayBase,), attrs)\n",
    "    return NewClass()\n",
    "\n",
    "ol = Overlay()"
   ]
  },
  {
   "cell_type": "markdown",
   "metadata": {},
   "source": [
    "The main benefit of this approach is that our dynamically create type works with all of the existing Python and IPython features with no additional effort. For example `help(ol)` will identify the attributes and list their types with no additional work on our behalf:"
   ]
  },
  {
   "cell_type": "code",
   "execution_count": 12,
   "metadata": {
    "scrolled": false
   },
   "outputs": [
    {
     "name": "stdout",
     "output_type": "stream",
     "text": [
      "Help on Overlay in module __main__ object:\n",
      "\n",
      "class Overlay(OverlayBase)\n",
      " |  Method resolution order:\n",
      " |      Overlay\n",
      " |      OverlayBase\n",
      " |      builtins.object\n",
      " |  \n",
      " |  Data and other attributes defined here:\n",
      " |  \n",
      " |  gpio_btns = <__main__.AxiGPIO object>\n",
      " |  \n",
      " |  my_custom_ip = <__main__.DefaultIP object>\n",
      " |  \n",
      " |  ----------------------------------------------------------------------\n",
      " |  Data descriptors inherited from OverlayBase:\n",
      " |  \n",
      " |  __dict__\n",
      " |      dictionary for instance variables (if defined)\n",
      " |  \n",
      " |  __weakref__\n",
      " |      list of weak references to the object (if defined)\n",
      "\n"
     ]
    }
   ],
   "source": [
    "help(ol)"
   ]
  },
  {
   "cell_type": "markdown",
   "metadata": {},
   "source": [
    "Likewise tab-completion in IPython works exactly as expected."
   ]
  },
  {
   "cell_type": "code",
   "execution_count": null,
   "metadata": {},
   "outputs": [],
   "source": [
    "ol."
   ]
  },
  {
   "cell_type": "markdown",
   "metadata": {},
   "source": [
    "The main downside is that it's not obvious how a custom subclass could be built on top of this infrastructure. Our base overlay, for example, comes with a `BaseOverlay` class which sub-classes `Overlay` and renames and sets up some of the IP to make it simpler to interact with.\n",
    "\n",
    "For circumstances where subclassing is not required however this approach provides the most natural API. As an example we use this approach in PYNQ for generating our register map objects.\n",
    "\n",
    "### Using setattr\n",
    "\n",
    "The next option is to have an Overlay class which adds each attribute in the dictionary to the current instance as part of constructing the object."
   ]
  },
  {
   "cell_type": "code",
   "execution_count": 13,
   "metadata": {},
   "outputs": [],
   "source": [
    "class Overlay:\n",
    "    def __init__(self):\n",
    "        for k, v in ip_dict.items():\n",
    "            setattr(self, k, v['driver']())\n",
    "\n",
    "ol = Overlay()"
   ]
  },
  {
   "cell_type": "markdown",
   "metadata": {},
   "source": [
    "Now it's easy to sub-class the array and we stil get autocompletion as the objects have been explicitly added to the object. The downside is that `help(ol)` now has no idea of these new attributes that we've added."
   ]
  },
  {
   "cell_type": "code",
   "execution_count": 14,
   "metadata": {},
   "outputs": [
    {
     "name": "stdout",
     "output_type": "stream",
     "text": [
      "Help on Overlay in module __main__ object:\n",
      "\n",
      "class Overlay(builtins.object)\n",
      " |  Methods defined here:\n",
      " |  \n",
      " |  __init__(self)\n",
      " |      Initialize self.  See help(type(self)) for accurate signature.\n",
      " |  \n",
      " |  ----------------------------------------------------------------------\n",
      " |  Data descriptors defined here:\n",
      " |  \n",
      " |  __dict__\n",
      " |      dictionary for instance variables (if defined)\n",
      " |  \n",
      " |  __weakref__\n",
      " |      list of weak references to the object (if defined)\n",
      "\n"
     ]
    }
   ],
   "source": [
    "help(ol)"
   ]
  },
  {
   "cell_type": "markdown",
   "metadata": {},
   "source": [
    "In fact it's event worse that this as `help` only considers the documentation of the class not of the instance so we can't even update the `__doc__` attribute of the instance to add more details. One thing that we can do is use the IPython help system (the `?` operator) which will display the instance docstring:"
   ]
  },
  {
   "cell_type": "code",
   "execution_count": 15,
   "metadata": {},
   "outputs": [],
   "source": [
    "ol.__doc__ = \"An Instance docstring\"\n",
    "ol?"
   ]
  },
  {
   "cell_type": "markdown",
   "metadata": {},
   "source": [
    "This is how we get some documentation about the overlay instances in PYNQ and why we recommend using `?` instead of `help` where possible.\n",
    "\n",
    "\n",
    "### Overriding \\_\\_getattr\\_\\_\n",
    "\n",
    "Both of the previous two methods have created the driver objects at object creation which is not always desireable in PYNQ - e.g. the bitstream might not have been downloaded and we don't want drivers to start access IP that doesn't exist. Override `__getattr__` provides with a convenient mechanism to delay creating the driver instances until they're accessed at which point we can check if the bitstream exists before creating the object.\n"
   ]
  },
  {
   "cell_type": "code",
   "execution_count": 16,
   "metadata": {},
   "outputs": [],
   "source": [
    "class Overlay:\n",
    "    def __getattr__(self, key):\n",
    "        if key in ip_dict:\n",
    "            # Bitstream download check can be added here\n",
    "            return ip_dict[key]['driver']()\n",
    "        return super().__getattr__(key)\n",
    "    \n",
    "    def __dir__(self):\n",
    "        return list(ip_dict.keys()) + list(super().__dir__())\n",
    "\n",
    "ol = Overlay()"
   ]
  },
  {
   "cell_type": "markdown",
   "metadata": {},
   "source": [
    "The downside is that now we lose any help from the Python environment when it comes to docstrings or tab-completion. Unlike with docstring where we are in the same bind as option two we can get tab-completion to work through overloading the `__dir__` special method but this require more work than the previous options.\n",
    "\n",
    "For PYNQ though, being able to delay creating the objects is paramount for our Overlay class so this is the option we take even though it is more work to integrate back into the Python usability features.\n",
    "\n",
    "\n",
    "## Closing thoughts\n",
    "\n",
    "I've tried in this blog to give some insight into what goes into to creating an API that on the surface seems to be simple. Hopefully this has given you a better understanding of how the Overlay class works if you are already using PYNQ or provide some ideas in how to implement your own data-driver classes. In the interests of simplicity I've not touched on how hierarchies and other aspects of complex designs are handled but those features all use the same basic concepts presented here."
   ]
  }
 ],
 "metadata": {
  "kernelspec": {
   "display_name": "Python 3",
   "language": "python",
   "name": "python3"
  },
  "language_info": {
   "codemirror_mode": {
    "name": "ipython",
    "version": 3
   },
   "file_extension": ".py",
   "mimetype": "text/x-python",
   "name": "python",
   "nbconvert_exporter": "python",
   "pygments_lexer": "ipython3",
   "version": "3.7.4"
  }
 },
 "nbformat": 4,
 "nbformat_minor": 2
}
